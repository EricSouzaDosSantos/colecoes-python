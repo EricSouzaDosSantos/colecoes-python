{
 "cells": [
  {
   "cell_type": "markdown",
   "metadata": {},
   "source": [
    "# Coleções\n",
    "\n",
    "## Listas"
   ]
  },
  {
   "cell_type": "code",
   "execution_count": 74,
   "metadata": {},
   "outputs": [
    {
     "name": "stdout",
     "output_type": "stream",
     "text": [
      "['banana', 'laranja', 'uva', 'pera', 'melancia']\n"
     ]
    }
   ],
   "source": [
    "# Lista de strings\n",
    "frutas = ['banana', 'laranja', 'uva', 'pera', 'melancia']\n",
    "print(frutas)"
   ]
  },
  {
   "cell_type": "code",
   "execution_count": 75,
   "metadata": {},
   "outputs": [
    {
     "name": "stdout",
     "output_type": "stream",
     "text": [
      "[1, 2, 3, 4, 5]\n"
     ]
    }
   ],
   "source": [
    "# Lista de inteiros\n",
    "numeros = [1, 2, 3, 4, 5]\n",
    "print(numeros)"
   ]
  },
  {
   "cell_type": "code",
   "execution_count": 76,
   "metadata": {},
   "outputs": [
    {
     "name": "stdout",
     "output_type": "stream",
     "text": [
      "[[1, 2, 3], [4, 5, 6], [7, 8, 9]]\n"
     ]
    }
   ],
   "source": [
    "# Lista de listas\n",
    "listas = [[1, 2, 3], [4, 5, 6], [7, 8, 9]]\n",
    "print(listas)"
   ]
  },
  {
   "cell_type": "code",
   "execution_count": 77,
   "metadata": {},
   "outputs": [
    {
     "name": "stdout",
     "output_type": "stream",
     "text": [
      "[1, 'banana', 2.5, True]\n"
     ]
    }
   ],
   "source": [
    "# Lista mista\n",
    "misturada = [1, 'banana', 2.5, True]\n",
    "print(misturada)"
   ]
  },
  {
   "cell_type": "code",
   "execution_count": 78,
   "metadata": {},
   "outputs": [
    {
     "name": "stdout",
     "output_type": "stream",
     "text": [
      "5\n"
     ]
    }
   ],
   "source": [
    "# Tamnaho da lista\n",
    "print(len(frutas))"
   ]
  },
  {
   "cell_type": "code",
   "execution_count": 79,
   "metadata": {},
   "outputs": [
    {
     "name": "stdout",
     "output_type": "stream",
     "text": [
      "banana\n"
     ]
    }
   ],
   "source": [
    "# Acessando elementos da lista\n",
    "print(frutas[0])  # banana"
   ]
  },
  {
   "cell_type": "code",
   "execution_count": 80,
   "metadata": {},
   "outputs": [
    {
     "name": "stdout",
     "output_type": "stream",
     "text": [
      "uva\n"
     ]
    }
   ],
   "source": [
    "# Acessando elementos da lista de trás para frente\n",
    "print(frutas[-3])  # melancia"
   ]
  },
  {
   "cell_type": "code",
   "execution_count": 81,
   "metadata": {},
   "outputs": [
    {
     "name": "stdout",
     "output_type": "stream",
     "text": [
      "['banana', 'laranja', 'uva', 'pera', 'melancia']\n",
      "['laranja', 'uva']\n"
     ]
    }
   ],
   "source": [
    "# Acessando intervalos\n",
    "print(frutas)\n",
    "print(frutas[1:3])  # ['laranja', 'uva'] - do índice 1 ao 3, sem incluir o 3"
   ]
  },
  {
   "cell_type": "code",
   "execution_count": 82,
   "metadata": {},
   "outputs": [
    {
     "name": "stdout",
     "output_type": "stream",
     "text": [
      "['banana', 'laranja', 'uva']\n",
      "['uva', 'pera', 'melancia']\n"
     ]
    }
   ],
   "source": [
    "print(frutas[:3])  # ['banana', 'laranja', 'uva'] - do início ao índice 3, sem incluir o 3\n",
    "print(frutas[2:])  # ['uva', 'pera', 'melancia'] - do índice 2 ao final"
   ]
  },
  {
   "cell_type": "code",
   "execution_count": 83,
   "metadata": {},
   "outputs": [
    {
     "name": "stdout",
     "output_type": "stream",
     "text": [
      "['banana', 'laranja', 'uva', 'pera', 'melancia', 'abacaxi', 'jabuticaba']\n"
     ]
    }
   ],
   "source": [
    "# Adicionando elementos\n",
    "frutas.append('abacaxi')\n",
    "frutas.append('jabuticaba')\n",
    "print(frutas)"
   ]
  },
  {
   "cell_type": "code",
   "execution_count": 84,
   "metadata": {},
   "outputs": [
    {
     "name": "stdout",
     "output_type": "stream",
     "text": [
      "['banana', 'laranja', 'morango', 'uva', 'pera', 'melancia', 'abacaxi', 'jabuticaba']\n"
     ]
    }
   ],
   "source": [
    "# Adicionando elementos em uma posição específica\n",
    "frutas.insert(2, 'morango')\n",
    "print(frutas)"
   ]
  },
  {
   "cell_type": "code",
   "execution_count": 85,
   "metadata": {},
   "outputs": [
    {
     "name": "stdout",
     "output_type": "stream",
     "text": [
      "['banana', 'laranja', 'morango', 'jaca', 'pera', 'melancia', 'abacaxi', 'jabuticaba']\n"
     ]
    }
   ],
   "source": [
    "# Substituindo elementos\n",
    "frutas[3] = 'jaca'\n",
    "print(frutas)"
   ]
  },
  {
   "cell_type": "code",
   "execution_count": 86,
   "metadata": {},
   "outputs": [
    {
     "name": "stdout",
     "output_type": "stream",
     "text": [
      "Melancia removida\n",
      "['banana', 'laranja', 'morango', 'jaca', 'pera', 'abacaxi', 'jabuticaba']\n"
     ]
    }
   ],
   "source": [
    "# Removendo elementos\n",
    "try:\n",
    "    frutas.remove('melancia') # remove a primeira ocorrência do elemento\n",
    "    print('Melancia removida')\n",
    "except ValueError:\n",
    "    print('Elemento não encontrado')\n",
    "\n",
    "print(frutas)"
   ]
  },
  {
   "cell_type": "code",
   "execution_count": 87,
   "metadata": {},
   "outputs": [
    {
     "name": "stdout",
     "output_type": "stream",
     "text": [
      "['banana', 'laranja', 'morango', 'jaca', 'pera', 'abacaxi', 'jabuticaba', 'romã', 'caju', 'graviola']\n"
     ]
    }
   ],
   "source": [
    "# Extendendo listas com base em outras listas\n",
    "frutas2 = ['romã', 'caju', 'graviola']\n",
    "frutas.extend(frutas2)  # adiciona os elementos de frutas2 em frutas\n",
    "print(frutas)"
   ]
  },
  {
   "cell_type": "code",
   "execution_count": 88,
   "metadata": {},
   "outputs": [
    {
     "name": "stdout",
     "output_type": "stream",
     "text": [
      "['banana', 'laranja', 'morango', 'jaca', 'pera', 'abacaxi', 'jabuticaba', 'romã', 'caju', 'graviola', 'manga', 'goiaba', 'caqui']\n"
     ]
    }
   ],
   "source": [
    "# Extendendo listas com base em outros tipos iteráveis\n",
    "tupla = ('manga', 'goiaba', 'caqui') # tupla\n",
    "frutas.extend(tupla)\n",
    "print(frutas)"
   ]
  },
  {
   "cell_type": "code",
   "execution_count": 89,
   "metadata": {},
   "outputs": [
    {
     "name": "stdout",
     "output_type": "stream",
     "text": [
      "['banana', 'laranja', 'morango', 'jaca', 'pera', 'abacaxi', 'jabuticaba', 'romã', 'caju', 'graviola', 'manga', 'goiaba']\n"
     ]
    }
   ],
   "source": [
    "# Removendo elementos do final da lista\n",
    "frutas.pop()\n",
    "print(frutas)"
   ]
  },
  {
   "cell_type": "code",
   "execution_count": 90,
   "metadata": {},
   "outputs": [
    {
     "name": "stdout",
     "output_type": "stream",
     "text": [
      "['banana', 'laranja', 'morango', 'jaca', 'abacaxi', 'jabuticaba', 'romã', 'caju', 'graviola', 'manga', 'goiaba']\n"
     ]
    }
   ],
   "source": [
    "# Removendo elementos de uma posição específica\n",
    "frutas.pop(4) # remove o elemento no índice 4\n",
    "print(frutas)"
   ]
  },
  {
   "cell_type": "code",
   "execution_count": 91,
   "metadata": {},
   "outputs": [
    {
     "name": "stdout",
     "output_type": "stream",
     "text": [
      "['banana', 'laranja', 'morango', 'jaca', 'jabuticaba', 'romã', 'caju', 'graviola', 'manga', 'goiaba']\n"
     ]
    }
   ],
   "source": [
    "# Removendo elementos com a função del\n",
    "del frutas[4]\n",
    "print(frutas)"
   ]
  },
  {
   "cell_type": "code",
   "execution_count": 92,
   "metadata": {},
   "outputs": [
    {
     "name": "stdout",
     "output_type": "stream",
     "text": [
      "[]\n"
     ]
    }
   ],
   "source": [
    "# Removendo todos os elementos\n",
    "frutas.clear()\n",
    "print(frutas)"
   ]
  },
  {
   "cell_type": "code",
   "execution_count": 93,
   "metadata": {},
   "outputs": [],
   "source": [
    "# Nova lista\n",
    "legumes = ['cenoura', 'beterraba', 'abóbora', 'batata']"
   ]
  },
  {
   "cell_type": "code",
   "execution_count": 94,
   "metadata": {},
   "outputs": [
    {
     "name": "stdout",
     "output_type": "stream",
     "text": [
      "cenoura\n",
      "beterraba\n",
      "abóbora\n",
      "batata\n"
     ]
    }
   ],
   "source": [
    "# Iterando sobre listas\n",
    "for legume in legumes:\n",
    "    print(legume)"
   ]
  },
  {
   "cell_type": "code",
   "execution_count": 95,
   "metadata": {},
   "outputs": [
    {
     "name": "stdout",
     "output_type": "stream",
     "text": [
      "cenoura\n",
      "beterraba\n",
      "abóbora\n",
      "batata\n"
     ]
    },
    {
     "data": {
      "text/plain": [
       "[None, None, None, None]"
      ]
     },
     "execution_count": 95,
     "metadata": {},
     "output_type": "execute_result"
    }
   ],
   "source": [
    "# Shorhand for\n",
    "[print(legume) for legume in legumes]"
   ]
  },
  {
   "cell_type": "code",
   "execution_count": 97,
   "metadata": {},
   "outputs": [
    {
     "name": "stdout",
     "output_type": "stream",
     "text": [
      "Números pares: [0, 2, 4, 6, 8]\n",
      "Números ímpares: [1, 3, 5, 7, 9]\n"
     ]
    }
   ],
   "source": [
    "# List comprehension\n",
    "numeros = [0, 1, 2, 3, 4, 5, 6, 7, 8, 9]\n",
    "pares = [item for item in numeros if item % 2 == 0]\n",
    "impares = [item for item in numeros if item % 2 != 0]\n",
    "\n",
    "# No JavaScript\n",
    "# const pares = numeros.filter(numero => numero % 2 === 0)\n",
    "\n",
    "# for (let numero of numeros) {\n",
    "#   if (numero % 2 === 0) {\n",
    "#       pares.push(numero)\n",
    "#   }\n",
    "# }\n",
    "print(f'Números pares: {pares}')\n",
    "print(f'Números ímpares: {impares}')"
   ]
  },
  {
   "cell_type": "code",
   "execution_count": 99,
   "metadata": {},
   "outputs": [
    {
     "name": "stdout",
     "output_type": "stream",
     "text": [
      "['cenoura', 'beterraba', 'abóbora', 'batata']\n"
     ]
    }
   ],
   "source": [
    "# Ordenando listas\n",
    "print(legumes)"
   ]
  },
  {
   "cell_type": "code",
   "execution_count": 100,
   "metadata": {},
   "outputs": [
    {
     "name": "stdout",
     "output_type": "stream",
     "text": [
      "['abóbora', 'batata', 'beterraba', 'cenoura']\n"
     ]
    }
   ],
   "source": [
    "# Ordenando em ordem crescente (alfabética)\n",
    "legumes.sort()\n",
    "print(legumes)"
   ]
  },
  {
   "cell_type": "code",
   "execution_count": 101,
   "metadata": {},
   "outputs": [
    {
     "name": "stdout",
     "output_type": "stream",
     "text": [
      "['cenoura', 'beterraba', 'batata', 'abóbora']\n"
     ]
    }
   ],
   "source": [
    "# Ordenando em ordem decrescente (alfabética)\n",
    "legumes.sort(reverse=True)\n",
    "print(legumes)"
   ]
  },
  {
   "cell_type": "code",
   "execution_count": 102,
   "metadata": {},
   "outputs": [
    {
     "name": "stdout",
     "output_type": "stream",
     "text": [
      "['cenoura', 'beterraba', 'batata', 'abóbora']\n"
     ]
    }
   ],
   "source": [
    "sopa = legumes.copy()\n",
    "print(sopa)"
   ]
  },
  {
   "cell_type": "code",
   "execution_count": 104,
   "metadata": {},
   "outputs": [
    {
     "name": "stdout",
     "output_type": "stream",
     "text": [
      "['abóbora', 'batata', 'beterraba', 'cenoura']\n",
      "['cenoura', 'beterraba', 'batata', 'abóbora']\n"
     ]
    }
   ],
   "source": [
    "# Ordenando com a função global sorted()\n",
    "print(sorted(legumes))\n",
    "print(legumes)"
   ]
  },
  {
   "cell_type": "code",
   "execution_count": 106,
   "metadata": {},
   "outputs": [],
   "source": [
    "# Listas permitem elementos duplicados\n",
    "legumes.extend(['cenoura', 'beterraba', 'abóbora', 'batata', 'batata', 'batata'])\n"
   ]
  },
  {
   "cell_type": "code",
   "execution_count": 110,
   "metadata": {},
   "outputs": [
    {
     "name": "stdout",
     "output_type": "stream",
     "text": [
      "['cenoura', 'beterraba', 'batata', 'abóbora', 'cenoura', 'beterraba', 'abóbora', 'batata', 'batata', 'batata', 'cenoura', 'beterraba', 'abóbora', 'batata', 'batata', 'batata']\n",
      "7\n",
      "3\n"
     ]
    }
   ],
   "source": [
    "# Contando a quantidade de ocorrências de um elemento\n",
    "print(legumes)\n",
    "print(legumes.count('batata'))\n",
    "print(legumes.count('beterraba'))"
   ]
  },
  {
   "cell_type": "code",
   "execution_count": 109,
   "metadata": {},
   "outputs": [
    {
     "name": "stdout",
     "output_type": "stream",
     "text": [
      "1\n"
     ]
    }
   ],
   "source": [
    "# Encontrando o índice de um elemento\n",
    "print(legumes.index('beterraba'))"
   ]
  }
 ],
 "metadata": {
  "kernelspec": {
   "display_name": "Python 3",
   "language": "python",
   "name": "python3"
  },
  "language_info": {
   "codemirror_mode": {
    "name": "ipython",
    "version": 3
   },
   "file_extension": ".py",
   "mimetype": "text/x-python",
   "name": "python",
   "nbconvert_exporter": "python",
   "pygments_lexer": "ipython3",
   "version": "3.12.0"
  }
 },
 "nbformat": 4,
 "nbformat_minor": 2
}
