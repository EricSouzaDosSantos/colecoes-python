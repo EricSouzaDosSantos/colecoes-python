{
 "cells": [
  {
   "cell_type": "code",
   "execution_count": 1,
   "metadata": {},
   "outputs": [
    {
     "name": "stdout",
     "output_type": "stream",
     "text": [
      "Gerenciador de tarefas\n",
      "1 - Criar uma tarefa\n",
      "2 - remover uma tarefa\n",
      "3 - marcar como concluida\n",
      "4 - listar todas as tarefas\n",
      "5 - listar tarefas por status\n",
      "6 - Sair da lista de tarefas\n"
     ]
    }
   ],
   "source": [
    "# Sua tarefa é criar um programa em Python que permita ao usuário gerenciar uma lista de tarefas. O programa deve ter recursos para adicionar tarefas, remover tarefas, marcar tarefas como concluídas, listar todas as tarefas e listar apenas tarefas concluídas ou não concluídas.\n",
    "\n",
    "# adicionarTarefa: Função para adicionar uma nova tarefa à lista.\n",
    "# removerTarefa: Função para remover uma tarefa da lista.\n",
    "# concluirTarefa: Função para marcar uma tarefa como concluída.\n",
    "# listarTarefa: Função para exibir todas as tarefas na lista.\n",
    "# listarTarefaPorStatus: Função para listar tarefas com base em seu status de conclusão.\n",
    "\n",
    "tasksList = []\n",
    "\n",
    "def addTask():\n",
    "    taskName = input(\"Qual o nome da tarefa que deseja adicionar??\")\n",
    "    taskStatus = input(\"Qual o status da tarefa??\")\n",
    "    taskPriority = input(\"Qual a prioridade da tarefa??\")\n",
    "    dueDateTask = input(\"Qual a data de vencimento da tarefa??\")\n",
    "    task = [taskName, taskStatus, taskPriority, dueDateTask]\n",
    "    tasksList.append(task)\n",
    "    \n",
    "def removeTask():\n",
    "    print(tasksList)\n",
    "    \n",
    "exit = 1\n",
    "while exit == 1:\n",
    "    print(\"Gerenciador de tarefas\")\n",
    "    print(\"1 - Criar uma tarefa\")\n",
    "    print(\"2 - remover uma tarefa\")\n",
    "    print(\"3 - marcar como concluida\")\n",
    "    print(\"4 - listar todas as tarefas\")\n",
    "    print(\"5 - listar tarefas por status\")\n",
    "    print(\"6 - Sair da lista de tarefas\")\n",
    "    option = input(\"Qual das opções anteriores você deseja:\")\n",
    "    \n",
    "if option == \"1\":\n",
    "    addTask()\n",
    "elif option == \"2\":\n",
    "    removeTask()\n",
    "    \n",
    "    \n",
    "    \n",
    "\n"
   ]
  }
 ],
 "metadata": {
  "kernelspec": {
   "display_name": "Python 3",
   "language": "python",
   "name": "python3"
  },
  "language_info": {
   "codemirror_mode": {
    "name": "ipython",
    "version": 3
   },
   "file_extension": ".py",
   "mimetype": "text/x-python",
   "name": "python",
   "nbconvert_exporter": "python",
   "pygments_lexer": "ipython3",
   "version": "3.12.0"
  }
 },
 "nbformat": 4,
 "nbformat_minor": 2
}
